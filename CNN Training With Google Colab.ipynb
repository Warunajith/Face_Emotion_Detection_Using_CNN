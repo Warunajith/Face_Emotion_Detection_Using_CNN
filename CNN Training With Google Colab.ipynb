{
 "cells": [
  {
   "cell_type": "code",
   "execution_count": 36,
   "metadata": {
    "colab": {
     "base_uri": "https://localhost:8080/"
    },
    "id": "SUfrgZXJYcY1",
    "outputId": "64eb684d-ba07-4add-8fe7-530c090fb2ef"
   },
   "outputs": [
    {
     "name": "stdout",
     "output_type": "stream",
     "text": [
      "Drive already mounted at /content/drive; to attempt to forcibly remount, call drive.mount(\"/content/drive\", force_remount=True).\n"
     ]
    }
   ],
   "source": [
    "from google.colab import drive\n",
    "drive.mount('/content/drive')"
   ]
  },
  {
   "cell_type": "code",
   "execution_count": 37,
   "metadata": {
    "id": "kX6wKXwIt4Oc"
   },
   "outputs": [],
   "source": [
    "import numpy as np\n",
    "\n",
    "train_data=np.load('/content/drive/MyDrive/Colab Projects/Emotion Detection Using CNN/train_data.npy')\n",
    "train_target=np.load('/content/drive/MyDrive/Colab Projects/Emotion Detection Using CNN/train_target.npy')\n",
    "\n",
    "test_data=np.load('/content/drive/MyDrive/Colab Projects/Emotion Detection Using CNN/test_data.npy')\n",
    "test_target=np.load('/content/drive/MyDrive/Colab Projects/Emotion Detection Using CNN/test_target.npy')\n"
   ]
  },
  {
   "cell_type": "code",
   "execution_count": 38,
   "metadata": {
    "id": "VcBsO7E_vWii"
   },
   "outputs": [],
   "source": [
    "from keras.models import Sequential\n",
    "from keras.layers import Conv2D,MaxPooling2D,Dense,Dropout,Flatten,BatchNormalization\n",
    "from keras.optimizers import Adam\n",
    "\n",
    "model=Sequential()\n",
    "\n",
    "model.add(Conv2D(32,(3,3),input_shape=train_data.shape[1:],kernel_initializer='orthogonal'))\n",
    "model.add(BatchNormalization())\n",
    "model.add(Conv2D(64,(3, 3), activation='relu',kernel_initializer='orthogonal'))\n",
    "model.add(BatchNormalization())\n",
    "model.add(MaxPooling2D(pool_size=(2,2)))\n",
    "model.add(Dropout(0.25))\n",
    "\n",
    "\n",
    "model.add(Conv2D(128, kernel_size=(3, 3), activation='relu',kernel_initializer='orthogonal'))\n",
    "model.add(BatchNormalization())\n",
    "model.add(MaxPooling2D(pool_size=(2, 2)))\n",
    "model.add(Conv2D(128, kernel_size=(3, 3), activation='relu',kernel_initializer='orthogonal'))\n",
    "model.add(BatchNormalization())\n",
    "model.add(MaxPooling2D(pool_size=(2, 2)))\n",
    "model.add(Dropout(0.25))\n",
    "\n",
    "\n",
    "model.add(Flatten())\n",
    "model.add(Dense(1024, activation='relu'))\n",
    "model.add(Dropout(0.5))\n",
    "model.add(Dense(7, activation='softmax'))\n",
    "\n",
    "model.compile(loss='categorical_crossentropy',optimizer='adam',metrics=['accuracy'])"
   ]
  },
  {
   "cell_type": "code",
   "execution_count": 39,
   "metadata": {
    "colab": {
     "base_uri": "https://localhost:8080/"
    },
    "id": "N6ZJVJhGyIPa",
    "outputId": "c2689f65-343b-4017-d564-41ccc09cda55"
   },
   "outputs": [
    {
     "name": "stdout",
     "output_type": "stream",
     "text": [
      "Model: \"sequential_3\"\n",
      "_________________________________________________________________\n",
      " Layer (type)                Output Shape              Param #   \n",
      "=================================================================\n",
      " conv2d_12 (Conv2D)          (None, 46, 46, 32)        320       \n",
      "                                                                 \n",
      " batch_normalization_12 (Bat  (None, 46, 46, 32)       128       \n",
      " chNormalization)                                                \n",
      "                                                                 \n",
      " conv2d_13 (Conv2D)          (None, 44, 44, 64)        18496     \n",
      "                                                                 \n",
      " batch_normalization_13 (Bat  (None, 44, 44, 64)       256       \n",
      " chNormalization)                                                \n",
      "                                                                 \n",
      " max_pooling2d_9 (MaxPooling  (None, 22, 22, 64)       0         \n",
      " 2D)                                                             \n",
      "                                                                 \n",
      " dropout_9 (Dropout)         (None, 22, 22, 64)        0         \n",
      "                                                                 \n",
      " conv2d_14 (Conv2D)          (None, 20, 20, 128)       73856     \n",
      "                                                                 \n",
      " batch_normalization_14 (Bat  (None, 20, 20, 128)      512       \n",
      " chNormalization)                                                \n",
      "                                                                 \n",
      " max_pooling2d_10 (MaxPoolin  (None, 10, 10, 128)      0         \n",
      " g2D)                                                            \n",
      "                                                                 \n",
      " conv2d_15 (Conv2D)          (None, 8, 8, 128)         147584    \n",
      "                                                                 \n",
      " batch_normalization_15 (Bat  (None, 8, 8, 128)        512       \n",
      " chNormalization)                                                \n",
      "                                                                 \n",
      " max_pooling2d_11 (MaxPoolin  (None, 4, 4, 128)        0         \n",
      " g2D)                                                            \n",
      "                                                                 \n",
      " dropout_10 (Dropout)        (None, 4, 4, 128)         0         \n",
      "                                                                 \n",
      " flatten_3 (Flatten)         (None, 2048)              0         \n",
      "                                                                 \n",
      " dense_6 (Dense)             (None, 1024)              2098176   \n",
      "                                                                 \n",
      " dropout_11 (Dropout)        (None, 1024)              0         \n",
      "                                                                 \n",
      " dense_7 (Dense)             (None, 7)                 7175      \n",
      "                                                                 \n",
      "=================================================================\n",
      "Total params: 2,347,015\n",
      "Trainable params: 2,346,311\n",
      "Non-trainable params: 704\n",
      "_________________________________________________________________\n"
     ]
    }
   ],
   "source": [
    "model.summary()"
   ]
  },
  {
   "cell_type": "code",
   "execution_count": 40,
   "metadata": {
    "id": "OWdJUnYo0NcJ"
   },
   "outputs": [],
   "source": [
    "from keras.preprocessing.image import ImageDataGenerator\n",
    "\n",
    "aug = ImageDataGenerator(rotation_range=20,zoom_range=0.15,width_shift_range=0.2,height_shift_range=0.2,shear_range=0.15,\n",
    "                         horizontal_flip=True,fill_mode=\"nearest\")"
   ]
  },
  {
   "cell_type": "code",
   "execution_count": 41,
   "metadata": {
    "id": "1RMo0SnEJNeb"
   },
   "outputs": [],
   "source": [
    "from keras.callbacks import ModelCheckpoint\n",
    "\n",
    "checkpoint = ModelCheckpoint('/content/drive/MyDrive/Colab Projects/Emotion Detection Using CNN/emotion_weights-{epoch:03d}.h5',monitor='val_loss',save_best_only=True,mode='auto')"
   ]
  },
  {
   "cell_type": "code",
   "execution_count": 42,
   "metadata": {
    "colab": {
     "base_uri": "https://localhost:8080/"
    },
    "id": "fZZs7tZeyVWY",
    "outputId": "a9c3976b-f259-44eb-9d0e-e5407f4fc777"
   },
   "outputs": [
    {
     "name": "stdout",
     "output_type": "stream",
     "text": [
      "Epoch 1/100\n",
      "898/898 [==============================] - 20s 21ms/step - loss: 1.9942 - accuracy: 0.2470 - val_loss: 1.7520 - val_accuracy: 0.3377\n",
      "Epoch 2/100\n",
      "898/898 [==============================] - 18s 20ms/step - loss: 1.7381 - accuracy: 0.2898 - val_loss: 1.6512 - val_accuracy: 0.3371\n",
      "Epoch 3/100\n",
      "898/898 [==============================] - 18s 20ms/step - loss: 1.6698 - accuracy: 0.3307 - val_loss: 1.5038 - val_accuracy: 0.4168\n",
      "Epoch 4/100\n",
      "898/898 [==============================] - 18s 20ms/step - loss: 1.5939 - accuracy: 0.3713 - val_loss: 1.4969 - val_accuracy: 0.4393\n",
      "Epoch 5/100\n",
      "898/898 [==============================] - 18s 20ms/step - loss: 1.5351 - accuracy: 0.3957 - val_loss: 1.3503 - val_accuracy: 0.4848\n",
      "Epoch 6/100\n",
      "898/898 [==============================] - 18s 21ms/step - loss: 1.4967 - accuracy: 0.4193 - val_loss: 1.2806 - val_accuracy: 0.5128\n",
      "Epoch 7/100\n",
      "898/898 [==============================] - 19s 21ms/step - loss: 1.4648 - accuracy: 0.4341 - val_loss: 1.3690 - val_accuracy: 0.5001\n",
      "Epoch 8/100\n",
      "898/898 [==============================] - 18s 19ms/step - loss: 1.4395 - accuracy: 0.4467 - val_loss: 1.2778 - val_accuracy: 0.5088\n",
      "Epoch 9/100\n",
      "898/898 [==============================] - 18s 20ms/step - loss: 1.4164 - accuracy: 0.4547 - val_loss: 1.2628 - val_accuracy: 0.5059\n",
      "Epoch 10/100\n",
      "898/898 [==============================] - 17s 19ms/step - loss: 1.3881 - accuracy: 0.4688 - val_loss: 1.2934 - val_accuracy: 0.5099\n",
      "Epoch 11/100\n",
      "898/898 [==============================] - 18s 20ms/step - loss: 1.3800 - accuracy: 0.4740 - val_loss: 1.1957 - val_accuracy: 0.5442\n",
      "Epoch 12/100\n",
      "898/898 [==============================] - 18s 20ms/step - loss: 1.3617 - accuracy: 0.4808 - val_loss: 1.2263 - val_accuracy: 0.5343\n",
      "Epoch 13/100\n",
      "898/898 [==============================] - 17s 19ms/step - loss: 1.3432 - accuracy: 0.4927 - val_loss: 1.1948 - val_accuracy: 0.5564\n",
      "Epoch 14/100\n",
      "898/898 [==============================] - 18s 20ms/step - loss: 1.3322 - accuracy: 0.4951 - val_loss: 1.2313 - val_accuracy: 0.5269\n",
      "Epoch 15/100\n",
      "898/898 [==============================] - 18s 20ms/step - loss: 1.3167 - accuracy: 0.5001 - val_loss: 1.1927 - val_accuracy: 0.5419\n",
      "Epoch 16/100\n",
      "898/898 [==============================] - 19s 21ms/step - loss: 1.3121 - accuracy: 0.5049 - val_loss: 1.1738 - val_accuracy: 0.5536\n",
      "Epoch 17/100\n",
      "898/898 [==============================] - 18s 20ms/step - loss: 1.2982 - accuracy: 0.5090 - val_loss: 1.1771 - val_accuracy: 0.5589\n",
      "Epoch 18/100\n",
      "898/898 [==============================] - 19s 21ms/step - loss: 1.2936 - accuracy: 0.5153 - val_loss: 1.1712 - val_accuracy: 0.5474\n",
      "Epoch 19/100\n",
      "898/898 [==============================] - 20s 22ms/step - loss: 1.2682 - accuracy: 0.5216 - val_loss: 1.1068 - val_accuracy: 0.5782\n",
      "Epoch 20/100\n",
      "898/898 [==============================] - 19s 21ms/step - loss: 1.2652 - accuracy: 0.5251 - val_loss: 1.1785 - val_accuracy: 0.5447\n",
      "Epoch 21/100\n",
      "898/898 [==============================] - 18s 20ms/step - loss: 1.2544 - accuracy: 0.5281 - val_loss: 1.1704 - val_accuracy: 0.5584\n",
      "Epoch 22/100\n",
      "898/898 [==============================] - 19s 21ms/step - loss: 1.2424 - accuracy: 0.5312 - val_loss: 1.1046 - val_accuracy: 0.5826\n",
      "Epoch 23/100\n",
      "898/898 [==============================] - 19s 21ms/step - loss: 1.2339 - accuracy: 0.5369 - val_loss: 1.1754 - val_accuracy: 0.5563\n",
      "Epoch 24/100\n",
      "898/898 [==============================] - 19s 21ms/step - loss: 1.2230 - accuracy: 0.5386 - val_loss: 1.1930 - val_accuracy: 0.5502\n",
      "Epoch 25/100\n",
      "898/898 [==============================] - 19s 21ms/step - loss: 1.2144 - accuracy: 0.5429 - val_loss: 1.1034 - val_accuracy: 0.5869\n",
      "Epoch 26/100\n",
      "898/898 [==============================] - 19s 21ms/step - loss: 1.2083 - accuracy: 0.5428 - val_loss: 1.0862 - val_accuracy: 0.5868\n",
      "Epoch 27/100\n",
      "898/898 [==============================] - 19s 21ms/step - loss: 1.2019 - accuracy: 0.5478 - val_loss: 1.1008 - val_accuracy: 0.5822\n",
      "Epoch 28/100\n",
      "898/898 [==============================] - 19s 21ms/step - loss: 1.2025 - accuracy: 0.5466 - val_loss: 1.0494 - val_accuracy: 0.6088\n",
      "Epoch 29/100\n",
      "898/898 [==============================] - 19s 21ms/step - loss: 1.1930 - accuracy: 0.5520 - val_loss: 1.1173 - val_accuracy: 0.5787\n",
      "Epoch 30/100\n",
      "898/898 [==============================] - 21s 23ms/step - loss: 1.1906 - accuracy: 0.5519 - val_loss: 1.0612 - val_accuracy: 0.5972\n",
      "Epoch 31/100\n",
      "898/898 [==============================] - 19s 21ms/step - loss: 1.1873 - accuracy: 0.5495 - val_loss: 1.1052 - val_accuracy: 0.5841\n",
      "Epoch 32/100\n",
      "898/898 [==============================] - 18s 20ms/step - loss: 1.1772 - accuracy: 0.5581 - val_loss: 1.0656 - val_accuracy: 0.5988\n",
      "Epoch 33/100\n",
      "898/898 [==============================] - 19s 21ms/step - loss: 1.1768 - accuracy: 0.5546 - val_loss: 1.0516 - val_accuracy: 0.6082\n",
      "Epoch 34/100\n",
      "898/898 [==============================] - 19s 21ms/step - loss: 1.1737 - accuracy: 0.5555 - val_loss: 1.0475 - val_accuracy: 0.6070\n",
      "Epoch 35/100\n",
      "898/898 [==============================] - 19s 21ms/step - loss: 1.1743 - accuracy: 0.5593 - val_loss: 1.0535 - val_accuracy: 0.6016\n",
      "Epoch 36/100\n",
      "898/898 [==============================] - 19s 21ms/step - loss: 1.1627 - accuracy: 0.5630 - val_loss: 1.0458 - val_accuracy: 0.6024\n",
      "Epoch 37/100\n",
      "898/898 [==============================] - 19s 21ms/step - loss: 1.1655 - accuracy: 0.5589 - val_loss: 1.0505 - val_accuracy: 0.6074\n",
      "Epoch 38/100\n",
      "898/898 [==============================] - 19s 21ms/step - loss: 1.1568 - accuracy: 0.5645 - val_loss: 1.0428 - val_accuracy: 0.6087\n",
      "Epoch 39/100\n",
      "898/898 [==============================] - 19s 21ms/step - loss: 1.1558 - accuracy: 0.5615 - val_loss: 1.0574 - val_accuracy: 0.5992\n",
      "Epoch 40/100\n",
      "898/898 [==============================] - 19s 21ms/step - loss: 1.1561 - accuracy: 0.5667 - val_loss: 1.0160 - val_accuracy: 0.6205\n",
      "Epoch 41/100\n",
      "898/898 [==============================] - 20s 22ms/step - loss: 1.1529 - accuracy: 0.5674 - val_loss: 1.0629 - val_accuracy: 0.5996\n",
      "Epoch 42/100\n",
      "898/898 [==============================] - 18s 21ms/step - loss: 1.1446 - accuracy: 0.5678 - val_loss: 1.0427 - val_accuracy: 0.6064\n",
      "Epoch 43/100\n",
      "898/898 [==============================] - 19s 21ms/step - loss: 1.1403 - accuracy: 0.5690 - val_loss: 1.0541 - val_accuracy: 0.6006\n",
      "Epoch 44/100\n",
      "898/898 [==============================] - 19s 21ms/step - loss: 1.1414 - accuracy: 0.5731 - val_loss: 1.0231 - val_accuracy: 0.6148\n",
      "Epoch 45/100\n",
      "898/898 [==============================] - 18s 20ms/step - loss: 1.1402 - accuracy: 0.5722 - val_loss: 1.0963 - val_accuracy: 0.5936\n",
      "Epoch 46/100\n",
      "898/898 [==============================] - 18s 20ms/step - loss: 1.1405 - accuracy: 0.5699 - val_loss: 1.0622 - val_accuracy: 0.6042\n",
      "Epoch 47/100\n",
      "898/898 [==============================] - 19s 21ms/step - loss: 1.1382 - accuracy: 0.5701 - val_loss: 1.0318 - val_accuracy: 0.6180\n",
      "Epoch 48/100\n",
      "898/898 [==============================] - 19s 21ms/step - loss: 1.1264 - accuracy: 0.5741 - val_loss: 1.0421 - val_accuracy: 0.6119\n",
      "Epoch 49/100\n",
      "898/898 [==============================] - 19s 21ms/step - loss: 1.1313 - accuracy: 0.5779 - val_loss: 1.0203 - val_accuracy: 0.6201\n",
      "Epoch 50/100\n",
      "898/898 [==============================] - 19s 21ms/step - loss: 1.1287 - accuracy: 0.5746 - val_loss: 1.0184 - val_accuracy: 0.6158\n",
      "Epoch 51/100\n",
      "898/898 [==============================] - 19s 21ms/step - loss: 1.1304 - accuracy: 0.5746 - val_loss: 1.0053 - val_accuracy: 0.6232\n",
      "Epoch 52/100\n",
      "898/898 [==============================] - 19s 21ms/step - loss: 1.1265 - accuracy: 0.5746 - val_loss: 1.0332 - val_accuracy: 0.6187\n",
      "Epoch 53/100\n",
      "898/898 [==============================] - 20s 22ms/step - loss: 1.1262 - accuracy: 0.5808 - val_loss: 0.9960 - val_accuracy: 0.6227\n",
      "Epoch 54/100\n",
      "898/898 [==============================] - 19s 21ms/step - loss: 1.1140 - accuracy: 0.5824 - val_loss: 1.0334 - val_accuracy: 0.6134\n",
      "Epoch 55/100\n",
      "898/898 [==============================] - 18s 21ms/step - loss: 1.1143 - accuracy: 0.5799 - val_loss: 1.0693 - val_accuracy: 0.6041\n",
      "Epoch 56/100\n",
      "898/898 [==============================] - 19s 21ms/step - loss: 1.1170 - accuracy: 0.5796 - val_loss: 1.0138 - val_accuracy: 0.6199\n",
      "Epoch 57/100\n",
      "898/898 [==============================] - 19s 21ms/step - loss: 1.1147 - accuracy: 0.5804 - val_loss: 1.0228 - val_accuracy: 0.6194\n",
      "Epoch 58/100\n",
      "898/898 [==============================] - 19s 21ms/step - loss: 1.1132 - accuracy: 0.5806 - val_loss: 1.0215 - val_accuracy: 0.6187\n",
      "Epoch 59/100\n",
      "898/898 [==============================] - 18s 21ms/step - loss: 1.1113 - accuracy: 0.5855 - val_loss: 1.0446 - val_accuracy: 0.6053\n",
      "Epoch 60/100\n",
      "898/898 [==============================] - 18s 21ms/step - loss: 1.1065 - accuracy: 0.5833 - val_loss: 1.0101 - val_accuracy: 0.6191\n",
      "Epoch 61/100\n",
      "898/898 [==============================] - 19s 21ms/step - loss: 1.1043 - accuracy: 0.5855 - val_loss: 1.0517 - val_accuracy: 0.6059\n",
      "Epoch 62/100\n",
      "898/898 [==============================] - 19s 21ms/step - loss: 1.1093 - accuracy: 0.5862 - val_loss: 1.0509 - val_accuracy: 0.6115\n",
      "Epoch 63/100\n",
      "898/898 [==============================] - 19s 21ms/step - loss: 1.1025 - accuracy: 0.5856 - val_loss: 0.9914 - val_accuracy: 0.6339\n",
      "Epoch 64/100\n",
      "898/898 [==============================] - 20s 22ms/step - loss: 1.1081 - accuracy: 0.5847 - val_loss: 1.0078 - val_accuracy: 0.6272\n",
      "Epoch 65/100\n",
      "898/898 [==============================] - 18s 21ms/step - loss: 1.1020 - accuracy: 0.5864 - val_loss: 1.0125 - val_accuracy: 0.6183\n",
      "Epoch 66/100\n",
      "898/898 [==============================] - 19s 21ms/step - loss: 1.1030 - accuracy: 0.5790 - val_loss: 1.0502 - val_accuracy: 0.6108\n",
      "Epoch 67/100\n",
      "898/898 [==============================] - 19s 21ms/step - loss: 1.0961 - accuracy: 0.5874 - val_loss: 1.0099 - val_accuracy: 0.6197\n",
      "Epoch 68/100\n",
      "898/898 [==============================] - 18s 20ms/step - loss: 1.0968 - accuracy: 0.5863 - val_loss: 1.0035 - val_accuracy: 0.6304\n",
      "Epoch 69/100\n",
      "898/898 [==============================] - 19s 21ms/step - loss: 1.0964 - accuracy: 0.5882 - val_loss: 1.0385 - val_accuracy: 0.6163\n",
      "Epoch 70/100\n",
      "898/898 [==============================] - 19s 21ms/step - loss: 1.0927 - accuracy: 0.5890 - val_loss: 1.0302 - val_accuracy: 0.6241\n",
      "Epoch 71/100\n",
      "898/898 [==============================] - 18s 20ms/step - loss: 1.0886 - accuracy: 0.5915 - val_loss: 1.0011 - val_accuracy: 0.6296\n",
      "Epoch 72/100\n",
      "898/898 [==============================] - 19s 21ms/step - loss: 1.0952 - accuracy: 0.5889 - val_loss: 0.9806 - val_accuracy: 0.6389\n",
      "Epoch 73/100\n",
      "898/898 [==============================] - 19s 21ms/step - loss: 1.0884 - accuracy: 0.5912 - val_loss: 1.0478 - val_accuracy: 0.6177\n",
      "Epoch 74/100\n",
      "898/898 [==============================] - 19s 21ms/step - loss: 1.0859 - accuracy: 0.5911 - val_loss: 1.0277 - val_accuracy: 0.6172\n",
      "Epoch 75/100\n",
      "898/898 [==============================] - 19s 22ms/step - loss: 1.0828 - accuracy: 0.5933 - val_loss: 1.0002 - val_accuracy: 0.6275\n",
      "Epoch 76/100\n",
      "898/898 [==============================] - 21s 23ms/step - loss: 1.0915 - accuracy: 0.5877 - val_loss: 1.0408 - val_accuracy: 0.6002\n",
      "Epoch 77/100\n",
      "898/898 [==============================] - 19s 22ms/step - loss: 1.0877 - accuracy: 0.5910 - val_loss: 1.0096 - val_accuracy: 0.6247\n",
      "Epoch 78/100\n",
      "898/898 [==============================] - 19s 21ms/step - loss: 1.0875 - accuracy: 0.5890 - val_loss: 1.0172 - val_accuracy: 0.6297\n",
      "Epoch 79/100\n",
      "898/898 [==============================] - 19s 21ms/step - loss: 1.0849 - accuracy: 0.5899 - val_loss: 1.0459 - val_accuracy: 0.6205\n",
      "Epoch 80/100\n",
      "898/898 [==============================] - 18s 20ms/step - loss: 1.0800 - accuracy: 0.5929 - val_loss: 1.0290 - val_accuracy: 0.6264\n",
      "Epoch 81/100\n",
      "898/898 [==============================] - 19s 21ms/step - loss: 1.0782 - accuracy: 0.5943 - val_loss: 1.0025 - val_accuracy: 0.6283\n",
      "Epoch 82/100\n",
      "898/898 [==============================] - 19s 21ms/step - loss: 1.0800 - accuracy: 0.5938 - val_loss: 1.0249 - val_accuracy: 0.6255\n",
      "Epoch 83/100\n",
      "898/898 [==============================] - 19s 21ms/step - loss: 1.0760 - accuracy: 0.5942 - val_loss: 1.0588 - val_accuracy: 0.6059\n",
      "Epoch 84/100\n",
      "898/898 [==============================] - 19s 21ms/step - loss: 1.0840 - accuracy: 0.5925 - val_loss: 0.9869 - val_accuracy: 0.6278\n",
      "Epoch 85/100\n",
      "898/898 [==============================] - 19s 21ms/step - loss: 1.0730 - accuracy: 0.5953 - val_loss: 1.0126 - val_accuracy: 0.6245\n",
      "Epoch 86/100\n",
      "898/898 [==============================] - 19s 21ms/step - loss: 1.0856 - accuracy: 0.5933 - val_loss: 1.1082 - val_accuracy: 0.6037\n",
      "Epoch 87/100\n",
      "898/898 [==============================] - 19s 21ms/step - loss: 1.0768 - accuracy: 0.5943 - val_loss: 0.9989 - val_accuracy: 0.6289\n",
      "Epoch 88/100\n",
      "898/898 [==============================] - 19s 21ms/step - loss: 1.0803 - accuracy: 0.5964 - val_loss: 1.0237 - val_accuracy: 0.6223\n",
      "Epoch 89/100\n",
      "898/898 [==============================] - 19s 21ms/step - loss: 1.0684 - accuracy: 0.6000 - val_loss: 1.0237 - val_accuracy: 0.6325\n",
      "Epoch 90/100\n",
      "898/898 [==============================] - 19s 21ms/step - loss: 1.0728 - accuracy: 0.5978 - val_loss: 0.9898 - val_accuracy: 0.6336\n",
      "Epoch 91/100\n",
      "898/898 [==============================] - 19s 21ms/step - loss: 1.0686 - accuracy: 0.5974 - val_loss: 1.0016 - val_accuracy: 0.6275\n",
      "Epoch 92/100\n",
      "898/898 [==============================] - 19s 21ms/step - loss: 1.0663 - accuracy: 0.6017 - val_loss: 1.0198 - val_accuracy: 0.6236\n",
      "Epoch 93/100\n",
      "898/898 [==============================] - 18s 20ms/step - loss: 1.0619 - accuracy: 0.6016 - val_loss: 1.0376 - val_accuracy: 0.6215\n",
      "Epoch 94/100\n",
      "898/898 [==============================] - 19s 21ms/step - loss: 1.0706 - accuracy: 0.6025 - val_loss: 1.0003 - val_accuracy: 0.6245\n",
      "Epoch 95/100\n",
      "898/898 [==============================] - 18s 20ms/step - loss: 1.0596 - accuracy: 0.6019 - val_loss: 1.0152 - val_accuracy: 0.6284\n",
      "Epoch 96/100\n",
      "898/898 [==============================] - 19s 21ms/step - loss: 1.0696 - accuracy: 0.5994 - val_loss: 1.0484 - val_accuracy: 0.6232\n",
      "Epoch 97/100\n",
      "898/898 [==============================] - 19s 21ms/step - loss: 1.0732 - accuracy: 0.5999 - val_loss: 1.0255 - val_accuracy: 0.6211\n",
      "Epoch 98/100\n",
      "898/898 [==============================] - 18s 20ms/step - loss: 1.0664 - accuracy: 0.5982 - val_loss: 0.9913 - val_accuracy: 0.6329\n",
      "Epoch 99/100\n",
      "898/898 [==============================] - 19s 21ms/step - loss: 1.0666 - accuracy: 0.5985 - val_loss: 1.1080 - val_accuracy: 0.6266\n",
      "Epoch 100/100\n",
      "898/898 [==============================] - 18s 20ms/step - loss: 1.0659 - accuracy: 0.5983 - val_loss: 1.0087 - val_accuracy: 0.6399\n"
     ]
    }
   ],
   "source": [
    "bs=32\n",
    "\n",
    "history=model.fit(aug.flow(train_data,train_target,batch_size=bs),\n",
    "                  validation_data=(test_data,test_target),epochs=100,callbacks=[checkpoint])"
   ]
  },
  {
   "cell_type": "code",
   "execution_count": 43,
   "metadata": {
    "colab": {
     "base_uri": "https://localhost:8080/",
     "height": 279
    },
    "id": "fBZVon2V0zPQ",
    "outputId": "30b75ed5-5aec-4d6a-bc53-ac307af65b13"
   },
   "outputs": [
    {
     "data": {
      "image/png": "[encoded data removed]",
      "text/plain": [
       "<Figure size 432x288 with 1 Axes>"
      ]
     },
     "metadata": {
      "needs_background": "light"
     },
     "output_type": "display_data"
    }
   ],
   "source": [
    "from matplotlib import pyplot as plt\n",
    "\n",
    "plt.plot(history.history['loss'],label='loss')\n",
    "plt.plot(history.history['val_loss'],label='val loss')\n",
    "plt.legend()\n",
    "plt.xlabel('#epoch')\n",
    "plt.ylabel('loss')\n",
    "plt.show()\n"
   ]
  },
  {
   "cell_type": "code",
   "execution_count": 47,
   "metadata": {
    "colab": {
     "base_uri": "https://localhost:8080/",
     "height": 295
    },
    "id": "35ZrTrcc1gGn",
    "outputId": "6efdf5c0-ada1-4a21-d5c0-4e51dd20be00"
   },
   "outputs": [
    {
     "data": {
      "image/png": "[encoded data removed]",
      "text/plain": [
       "<Figure size 432x288 with 1 Axes>"
      ]
     },
     "metadata": {
      "needs_background": "light"
     },
     "output_type": "display_data"
    }
   ],
   "source": [
    "plt.title(\"Accuracy\")\n",
    "plt.plot(history.history['accuracy'],label='accuracy')\n",
    "plt.plot(history.history['val_accuracy'],label='val_accuracy')\n",
    "plt.legend()\n",
    "plt.xlabel('#epoch')\n",
    "plt.ylabel('accuracy')\n",
    "plt.show()"
   ]
  },
  {
   "cell_type": "code",
   "execution_count": 48,
   "metadata": {
    "colab": {
     "base_uri": "https://localhost:8080/"
    },
    "id": "HOSTMt_lOt2i",
    "outputId": "53de381d-b2f5-43d7-c933-bf05ab9f9a98"
   },
   "outputs": [
    {
     "name": "stdout",
     "output_type": "stream",
     "text": [
      "225/225 [==============================] - 1s 5ms/step - loss: 1.0087 - accuracy: 0.6399\n",
      "[1.008735179901123, 0.6398718357086182]\n"
     ]
    }
   ],
   "source": [
    "print(model.evaluate(test_data,test_target))"
   ]
  },
  {
   "cell_type": "code",
   "execution_count": 49,
   "metadata": {
    "colab": {
     "base_uri": "https://localhost:8080/"
    },
    "id": "VYWDK2BDPoji",
    "outputId": "9eff423c-267a-4b3e-e95b-fdce6e886a8c"
   },
   "outputs": [
    {
     "name": "stdout",
     "output_type": "stream",
     "text": [
      "225/225 [==============================] - 1s 3ms/step\n"
     ]
    }
   ],
   "source": [
    "predicted_target=model.predict(test_data)"
   ]
  },
  {
   "cell_type": "code",
   "execution_count": 51,
   "metadata": {
    "id": "FdNiMpEe4oM0"
   },
   "outputs": [],
   "source": [
    "model.save_weights('/content/drive/MyDrive/Colab Projects/Emotion Detection Using CNN/emotion_weights.h5')"
   ]
  }
 ],
 "metadata": {
  "accelerator": "GPU",
  "colab": {
   "provenance": []
  },
  "gpuClass": "standard",
  "kernelspec": {
   "display_name": "Python 3",
   "language": "python",
   "name": "python3"
  },
  "language_info": {
   "codemirror_mode": {
    "name": "ipython",
    "version": 3
   },
   "file_extension": ".py",
   "mimetype": "text/x-python",
   "name": "python",
   "nbconvert_exporter": "python",
   "pygments_lexer": "ipython3",
   "version": "3.8.5"
  }
 },
 "nbformat": 4,
 "nbformat_minor": 1
}
